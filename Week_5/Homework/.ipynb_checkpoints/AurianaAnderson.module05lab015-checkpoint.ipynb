{
 "cells": [
  {
   "cell_type": "markdown",
   "id": "88671a38",
   "metadata": {},
   "source": [
    "# Homework 5\n",
    "### Auriana Anderson\n",
    "### November 24, 2024"
   ]
  },
  {
   "cell_type": "markdown",
   "id": "822c38b0",
   "metadata": {},
   "source": [
    "Answer each question by writing the Python code needed to perform the task. Please only use the libraries requested in each problem. "
   ]
  },
  {
   "cell_type": "markdown",
   "id": "c25d3684",
   "metadata": {},
   "source": [
    "### Problem 1\n",
    "Load the interest_inflation data from the statsmodels library as a pandas data frame assigned to `df`. Use the function `df.head()` to view the first 5 rows of the data. Notice the first observation is indexed at 0. Unlike R, Python is a 0 based index language which means when you iterate or wish to view the first observation of a data object it will be at the index 0. \n",
    "\n",
    "What do the columns `Dp` and `R` represent? (You can find this using the documentation)\n"
   ]
  },
  {
   "cell_type": "code",
   "execution_count": 63,
   "id": "723f0215",
   "metadata": {},
   "outputs": [
    {
     "name": "stdout",
     "output_type": "stream",
     "text": [
      "     year  quarter        Dp      R\n",
      "0  1972.0      2.0 -0.003133  0.083\n",
      "1  1972.0      3.0  0.018871  0.083\n",
      "2  1972.0      4.0  0.024804  0.087\n",
      "3  1973.0      1.0  0.016278  0.087\n",
      "4  1973.0      2.0  0.000290  0.102\n"
     ]
    }
   ],
   "source": [
    "from statsmodels.datasets.interest_inflation.data import load_pandas\n",
    "df = load_pandas().data\n",
    "print(df.head())\n"
   ]
  },
  {
   "cell_type": "markdown",
   "id": "7f88fccb-fe8d-4c00-b66b-4400a316dc57",
   "metadata": {},
   "source": [
    "The columns Dp represents:Delta log gdp deflator aka how much pricing levels are changing between periods (Log scale)\n",
    "The column R represents: normal long term interest rate"
   ]
  },
  {
   "cell_type": "markdown",
   "id": "724b3e2c",
   "metadata": {},
   "source": [
    "### Problem 2\n",
    "Import scipy as sp and numpy as np. Using the `mean()` and `var()` function from scipy, validate that both functions equate to their numpy counterparts against the column `Dp`.\n",
    "\n",
    "By using the scipy library you should receive a warning message. What does the warning message indicate? Which function should you use going forward? "
   ]
  },
  {
   "cell_type": "code",
   "execution_count": 39,
   "id": "83dc8d7f",
   "metadata": {},
   "outputs": [
    {
     "name": "stdout",
     "output_type": "stream",
     "text": [
      "0.008397309906542055\n",
      "0.00035296754186450404\n",
      "0.008397309906542055\n",
      "0.0003562974243349239\n"
     ]
    }
   ],
   "source": [
    "import scipy as sp\n",
    "import numpy as np\n",
    "\n",
    "dp_numpy_mean = np.mean(df['Dp'])\n",
    "dp_numpy_var = np.var(df['Dp'])\n",
    "\n",
    "print(dp_numpy_mean)\n",
    "print(dp_numpy_var)\n",
    "\n",
    "dp_scipy_mean = sp.stats.tmean(df['Dp'])\n",
    "dp_scipy_var = sp.stats.tvar(df['Dp'])\n",
    "\n",
    "print(dp_scipy_mean)\n",
    "print(dp_scipy_var) \n"
   ]
  },
  {
   "cell_type": "markdown",
   "id": "f3ebd4c4-9c55-4606-8058-ea66a806800c",
   "metadata": {},
   "source": [
    "I tried this and could not get a warning to come up. I tried sp.mean and sp.var and it completely throws an error, \n",
    "The only way i could get this work is to use sp.stats for both. After a few google searches I found that the worning \n",
    "message is supposed to be that scipy has a deprecated mean(), meaning that its available for use but no longer recommened\n",
    "and will eventually be removed from newer versions."
   ]
  },
  {
   "cell_type": "markdown",
   "id": "7334bad9",
   "metadata": {},
   "source": [
    "### Problem 3\n",
    "Fit an OLS regression (linear regression) using the statsmodels api where `y = df['Dp']` and `x = df['R']`. By default OLS estimates the theoretical mean of the dependent variable y. Statsmodels.ols does not fit a constant value by default so be sure to add a constant to `x`. Extract the coefficients into a variable named `res1_coefs`. See the documentation for `params`. Finally print the `summary()` of the model. \n",
    "\n",
    "Documentation: https://www.statsmodels.org/dev/generated/statsmodels.regression.linear_model.OLS.html"
   ]
  },
  {
   "cell_type": "code",
   "execution_count": 54,
   "id": "30e5d02a",
   "metadata": {},
   "outputs": [
    {
     "name": "stdout",
     "output_type": "stream",
     "text": [
      "                            OLS Regression Results                            \n",
      "==============================================================================\n",
      "Dep. Variable:                     Dp   R-squared:                       0.018\n",
      "Model:                            OLS   Adj. R-squared:                  0.009\n",
      "Method:                 Least Squares   F-statistic:                     1.954\n",
      "Date:                Sun, 24 Nov 2024   Prob (F-statistic):              0.165\n",
      "Time:                        09:40:02   Log-Likelihood:                 274.44\n",
      "No. Observations:                 107   AIC:                            -544.9\n",
      "Df Residuals:                     105   BIC:                            -539.5\n",
      "Df Model:                           1                                         \n",
      "Covariance Type:            nonrobust                                         \n",
      "==============================================================================\n",
      "                 coef    std err          t      P>|t|      [0.025      0.975]\n",
      "------------------------------------------------------------------------------\n",
      "const         -0.0031      0.008     -0.370      0.712      -0.020       0.014\n",
      "R              0.1545      0.111      1.398      0.165      -0.065       0.374\n",
      "==============================================================================\n",
      "Omnibus:                       11.018   Durbin-Watson:                   2.552\n",
      "Prob(Omnibus):                  0.004   Jarque-Bera (JB):                3.844\n",
      "Skew:                          -0.050   Prob(JB):                        0.146\n",
      "Kurtosis:                       2.077   Cond. No.                         61.2\n",
      "==============================================================================\n",
      "\n",
      "Notes:\n",
      "[1] Standard Errors assume that the covariance matrix of the errors is correctly specified.\n"
     ]
    }
   ],
   "source": [
    "import statsmodels.api as sm\n",
    "X = df['R']\n",
    "Y = df['Dp']\n",
    "\n",
    "X = sm.add_constant(X)\n",
    "model = sm.OLS(Y,X)\n",
    "results = model.fit()\n",
    "\n",
    "res1_coefs = results.params\n",
    "\n",
    "print(results.summary())\n"
   ]
  },
  {
   "cell_type": "markdown",
   "id": "f630fe6c",
   "metadata": {},
   "source": [
    "### Probelm 4\n",
    "Fit a quantile regression model using the statsmodels api using the formula `Dp ~ R`. By default quantreg creates a constant so there is no need to add one to this model. In your `fit()` method be sure to set `q = 0.5` so that we are estimating the theoritical median.  Extract the coefficients into a variable named `res2_coefs`.  Finally print the `summary()` of the model. \n",
    "\n",
    "\n",
    "Documentation: https://www.statsmodels.org/dev/generated/statsmodels.regression.quantile_regression.QuantReg.html"
   ]
  },
  {
   "cell_type": "code",
   "execution_count": 56,
   "id": "4731c2e4",
   "metadata": {},
   "outputs": [
    {
     "name": "stdout",
     "output_type": "stream",
     "text": [
      "                         QuantReg Regression Results                          \n",
      "==============================================================================\n",
      "Dep. Variable:                     Dp   Pseudo R-squared:              0.01709\n",
      "Model:                       QuantReg   Bandwidth:                     0.02021\n",
      "Method:                 Least Squares   Sparsity:                      0.05759\n",
      "Date:                Sun, 24 Nov 2024   No. Observations:                  107\n",
      "Time:                        09:42:10   Df Residuals:                      106\n",
      "                                        Df Model:                            1\n",
      "==============================================================================\n",
      "                 coef    std err          t      P>|t|      [0.025      0.975]\n",
      "------------------------------------------------------------------------------\n",
      "R              0.1104      0.036      3.029      0.003       0.038       0.183\n",
      "==============================================================================\n"
     ]
    }
   ],
   "source": [
    "import statsmodels.api as sm\n",
    "\n",
    "X = df['R']\n",
    "Y = df['Dp']\n",
    "\n",
    "model = sm.QuantReg(Y, X)\n",
    "results = model.fit(q = 0.5)\n",
    "\n",
    "res2_coefs = results.params\n",
    "\n",
    "print(results.summary())"
   ]
  },
  {
   "cell_type": "markdown",
   "id": "2d0d47d5",
   "metadata": {},
   "source": [
    "### Problem 5\n",
    "\n",
    "Part 1: Use the `type()` method to determine the type of `res1_coefs` and `res2_coefs`. Print the type in a Jupyter cell. \n",
    "\n",
    "Part 2: In the next Jupyter cell show that `res1_coefs > res2_coefs`. What does the error mean? To resolve this error we must convert the data to an unnamed object or change the names of the objects. Since we are not focusing on pandas this week we will simply convert to a different data type.\n",
    "\n",
    "Part 3: Now, do the same comparision using the `tolist()` function at the end of each object name. \n",
    "\n",
    "Part 4: We performed two types of linear regression and compared their coefficients. Coefficients are essentially the rate at which x changes the values of y. Do some research on what OLS estimates versus what quantreg estimates and explain why we have two different coefficient estimates. In which cases do you think quantile regression will be useful? What about ordinary least squares regression? "
   ]
  },
  {
   "cell_type": "code",
   "execution_count": 57,
   "id": "554fbe9a",
   "metadata": {},
   "outputs": [
    {
     "name": "stdout",
     "output_type": "stream",
     "text": [
      "<class 'pandas.core.series.Series'>\n",
      "<class 'pandas.core.series.Series'>\n"
     ]
    }
   ],
   "source": [
    "# Part 1: determine the type of `res1_coefs` and `res2_coefs`\n",
    "\n",
    "print(type(res1_coefs))\n",
    "print(type(res2_coefs))"
   ]
  },
  {
   "cell_type": "code",
   "execution_count": 58,
   "id": "1adf9036-5e0d-49f0-b49e-794eb9dd5aa4",
   "metadata": {},
   "outputs": [
    {
     "ename": "ValueError",
     "evalue": "Can only compare identically-labeled Series objects",
     "output_type": "error",
     "traceback": [
      "\u001b[1;31m---------------------------------------------------------------------------\u001b[0m",
      "\u001b[1;31mValueError\u001b[0m                                Traceback (most recent call last)",
      "Cell \u001b[1;32mIn[58], line 5\u001b[0m\n\u001b[0;32m      1\u001b[0m \u001b[38;5;66;03m#Part 2: In the next Jupyter cell show that `res1_coefs > res2_coefs`. What does the error mean? \u001b[39;00m\n\u001b[0;32m      2\u001b[0m \u001b[38;5;66;03m#To resolve this error we must convert the data to an unnamed object or change the names of the objects. \u001b[39;00m\n\u001b[0;32m      3\u001b[0m \u001b[38;5;66;03m#Since we are not focusing on pandas this week we will simply convert to a different data type.\u001b[39;00m\n\u001b[1;32m----> 5\u001b[0m res1_coefs \u001b[38;5;241m>\u001b[39m res2_coefs\n",
      "File \u001b[1;32m~\\AppData\\Local\\anaconda3\\envs\\DSE5002_Intro_to_R_python\\Lib\\site-packages\\pandas\\core\\ops\\common.py:76\u001b[0m, in \u001b[0;36m_unpack_zerodim_and_defer.<locals>.new_method\u001b[1;34m(self, other)\u001b[0m\n\u001b[0;32m     72\u001b[0m             \u001b[38;5;28;01mreturn\u001b[39;00m \u001b[38;5;28mNotImplemented\u001b[39m\n\u001b[0;32m     74\u001b[0m other \u001b[38;5;241m=\u001b[39m item_from_zerodim(other)\n\u001b[1;32m---> 76\u001b[0m \u001b[38;5;28;01mreturn\u001b[39;00m method(\u001b[38;5;28mself\u001b[39m, other)\n",
      "File \u001b[1;32m~\\AppData\\Local\\anaconda3\\envs\\DSE5002_Intro_to_R_python\\Lib\\site-packages\\pandas\\core\\arraylike.py:56\u001b[0m, in \u001b[0;36mOpsMixin.__gt__\u001b[1;34m(self, other)\u001b[0m\n\u001b[0;32m     54\u001b[0m \u001b[38;5;129m@unpack_zerodim_and_defer\u001b[39m(\u001b[38;5;124m\"\u001b[39m\u001b[38;5;124m__gt__\u001b[39m\u001b[38;5;124m\"\u001b[39m)\n\u001b[0;32m     55\u001b[0m \u001b[38;5;28;01mdef\u001b[39;00m \u001b[38;5;21m__gt__\u001b[39m(\u001b[38;5;28mself\u001b[39m, other):\n\u001b[1;32m---> 56\u001b[0m     \u001b[38;5;28;01mreturn\u001b[39;00m \u001b[38;5;28mself\u001b[39m\u001b[38;5;241m.\u001b[39m_cmp_method(other, operator\u001b[38;5;241m.\u001b[39mgt)\n",
      "File \u001b[1;32m~\\AppData\\Local\\anaconda3\\envs\\DSE5002_Intro_to_R_python\\Lib\\site-packages\\pandas\\core\\series.py:6114\u001b[0m, in \u001b[0;36mSeries._cmp_method\u001b[1;34m(self, other, op)\u001b[0m\n\u001b[0;32m   6111\u001b[0m res_name \u001b[38;5;241m=\u001b[39m ops\u001b[38;5;241m.\u001b[39mget_op_result_name(\u001b[38;5;28mself\u001b[39m, other)\n\u001b[0;32m   6113\u001b[0m \u001b[38;5;28;01mif\u001b[39;00m \u001b[38;5;28misinstance\u001b[39m(other, Series) \u001b[38;5;129;01mand\u001b[39;00m \u001b[38;5;129;01mnot\u001b[39;00m \u001b[38;5;28mself\u001b[39m\u001b[38;5;241m.\u001b[39m_indexed_same(other):\n\u001b[1;32m-> 6114\u001b[0m     \u001b[38;5;28;01mraise\u001b[39;00m \u001b[38;5;167;01mValueError\u001b[39;00m(\u001b[38;5;124m\"\u001b[39m\u001b[38;5;124mCan only compare identically-labeled Series objects\u001b[39m\u001b[38;5;124m\"\u001b[39m)\n\u001b[0;32m   6116\u001b[0m lvalues \u001b[38;5;241m=\u001b[39m \u001b[38;5;28mself\u001b[39m\u001b[38;5;241m.\u001b[39m_values\n\u001b[0;32m   6117\u001b[0m rvalues \u001b[38;5;241m=\u001b[39m extract_array(other, extract_numpy\u001b[38;5;241m=\u001b[39m\u001b[38;5;28;01mTrue\u001b[39;00m, extract_range\u001b[38;5;241m=\u001b[39m\u001b[38;5;28;01mTrue\u001b[39;00m)\n",
      "\u001b[1;31mValueError\u001b[0m: Can only compare identically-labeled Series objects"
     ]
    }
   ],
   "source": [
    "#Part 2: In the next Jupyter cell show that `res1_coefs > res2_coefs`. What does the error mean? \n",
    "#To resolve this error we must convert the data to an unnamed object or change the names of the objects. \n",
    "#Since we are not focusing on pandas this week we will simply convert to a different data type.\n",
    "\n",
    "res1_coefs > res2_coefs\n",
    "\n"
   ]
  },
  {
   "cell_type": "markdown",
   "id": "5bffe2ae-1b9e-48f2-81ec-04f70fe4bf2a",
   "metadata": {},
   "source": [
    "The error is that it says it can only compare identalically-labeled series objects and since the OLS and QuantReg use different indicies, its having a hard time"
   ]
  },
  {
   "cell_type": "code",
   "execution_count": 62,
   "id": "29a590dc-4ee6-4aef-ba86-f6cce2807251",
   "metadata": {},
   "outputs": [
    {
     "data": {
      "text/plain": [
       "False"
      ]
     },
     "execution_count": 62,
     "metadata": {},
     "output_type": "execute_result"
    }
   ],
   "source": [
    "#Part 3: Now, do the same comparision using the `tolist()` function at the end of each object name. \n",
    "\n",
    "res1_coefs.tolist() > res2_coefs.tolist()\n"
   ]
  },
  {
   "cell_type": "markdown",
   "id": "1d4289cb-afea-4489-9633-73426286e9f6",
   "metadata": {},
   "source": [
    "Part 4: We performed two types of linear regression and compared their coefficients. Coefficients are essentially the rate at which x changes \n",
    "the values of y. Do some research on what OLS estimates versus what quantreg estimates and explain why we have two different coefficient estimates. \n",
    " In which cases do you think quantile regression will be useful? What about ordinary least squares regression? "
   ]
  },
  {
   "cell_type": "markdown",
   "id": "fda4eac0-4062-4f89-ba26-14f8b34c6b8e",
   "metadata": {},
   "source": [
    "Ordinary least squares regression: This is used for linear regression analysis. It is trying to find an average relationship between x and y, \n",
    "y being the dependent variable. Its essentially trying to find a line of best fit within the data and minimize square differences. \n",
    "This is best to use when the data isn't heavily skewed and doesn't have many extreme outliers. Also when there is a clear established \n",
    "relationship between x and y.\n",
    "\n",
    "quantile regression: Uses specific points in data to try and define the relationship between the two, this instead \n",
    "tries to minimize overall differences. I think this is the best when there are some heavy ouliers in the data that can skew results."
   ]
  },
  {
   "cell_type": "markdown",
   "id": "c0c8c7cd",
   "metadata": {},
   "source": [
    "### Problem 6\n",
    "What are the advantages of using Python as a general purpose programming language? What are the disadvantages? Why do you think data scientists and machine learning engineers prefer Python over other statistically focused languages like R? Your answer should a paragraph for: (1) advantages, (2) disadvantages, and (3) why its popular. Please cite each source used in your answer. "
   ]
  },
  {
   "cell_type": "markdown",
   "id": "a1ac1049",
   "metadata": {},
   "source": [
    "Advantages:\n",
    "\n",
    "Python is versatile and general purpose program. It has a rich and extensive ecosystem utilizing third party programs, adiing on to its functionality. This is one of my favorite parts about it, is that you can integrate it with different programs. Another point that I continually saw was that it has such a wide varitey of libraries and since it is well established, it also has a huge support system and community. This makes doing things in python easier and you have a lot of support from its community if you need help resolving issues. Another great thing about it, is that the language is fairly simple and easy to lear, therefore making it user friendly.\n",
    "\n",
    "Source: https://www.geeksforgeeks.org/python-language-advantages-applications/\n",
    "\n",
    "Disadvantages: One disadvanatage that I saw was that once code starts to get more complex, python can use a lot of memory. This can slow down processes in a work place. Another thing that I saw was that it lacks strictness, meaning that sometimes it can be too flexibile causing code to be created which can be hard to interpret. Variables don't necessarily have to be declared which can make it hard for someone coming in on a project. One last important point I saw was that It has  a Global Interpreter Lock which limits one task to execute python code at a time. This means you can have multiple threads running in your python program but one can only be actively running. I found this interesting because most computers these days are multi-cored but you wouldn't necessarily be able to multi-task with python regardless. \n",
    "\n",
    "Source: https://www.geeksforgeeks.org/python-language-advantages-applications/\n",
    "\n",
    "Why its popular:\n",
    "\n",
    "Python is popular because of its simplicity. I also saw numerous times that you can be more efficient with python because you can do more with less with pythons syntax. This cuts down on time you might have with other \"tedious\" languages where you may have to follow a stricter syntax. Again, as pointed out earlier, its well established, it has extensive libraries, and an extensive community. This means there are a lot of resources on it and if you need help, you are likely able to get help quickly with one of the many forums out there. It was also mentioned that it is widely used in academia and some students have started learning it as early as elementary school. \n",
    "\n",
    "source: https://github.blog/developer-skills/programming-languages-and-frameworks/why-python-keeps-growing-explained/"
   ]
  }
 ],
 "metadata": {
  "kernelspec": {
   "display_name": "Python 3 (ipykernel)",
   "language": "python",
   "name": "python3"
  },
  "language_info": {
   "codemirror_mode": {
    "name": "ipython",
    "version": 3
   },
   "file_extension": ".py",
   "mimetype": "text/x-python",
   "name": "python",
   "nbconvert_exporter": "python",
   "pygments_lexer": "ipython3",
   "version": "3.12.7"
  }
 },
 "nbformat": 4,
 "nbformat_minor": 5
}
