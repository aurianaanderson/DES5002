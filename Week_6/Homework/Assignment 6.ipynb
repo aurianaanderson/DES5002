{
 "cells": [
  {
   "cell_type": "markdown",
   "id": "868f20a6",
   "metadata": {},
   "source": [
    "# Assignment 6\n",
    "### Auriana Anderson\n",
    "### November 24, 2024"
   ]
  },
  {
   "cell_type": "markdown",
   "id": "6b3cc38d",
   "metadata": {},
   "source": [
    "## Question 1\n",
    "1) import the random library. \n",
    "\n",
    "2) Use `random.seed(10)` to initialize a pseudorandom number generator. \n",
    "\n",
    "3) Create a list of 50 random integers from 0 to 15. Call this list `int_list`.\n",
    "\n",
    "4) Print the 10th and 30th elements of the list. \n",
    "\n",
    "You will need to use list comprehension to do this. The syntax for list comprehension is: <new_list> = `[<expression> for <item> in <iterable>]`. For this question your expression will be a randint generator from the random library and your iterable will be `range()`. Researh the documentation on how to use both functions. "
   ]
  },
  {
   "cell_type": "code",
   "execution_count": 1,
   "id": "7abe6a13",
   "metadata": {},
   "outputs": [],
   "source": [
    "import random"
   ]
  },
  {
   "cell_type": "markdown",
   "id": "c9f2ade8-cebd-4906-b547-9e163832da5e",
   "metadata": {},
   "source": [
    "2) Use `random.seed(10)` to initialize a pseudorandom number generator. "
   ]
  },
  {
   "cell_type": "code",
   "execution_count": 2,
   "id": "b94c3482-680a-4934-8f37-a9d3200c10be",
   "metadata": {},
   "outputs": [],
   "source": [
    "random.seed(10)"
   ]
  },
  {
   "cell_type": "markdown",
   "id": "7f1d3ced-48f1-4325-a61d-3aaec181dcdb",
   "metadata": {},
   "source": [
    "3) Create a list of 50 random integers from 0 to 15. Call this list `int_list`."
   ]
  },
  {
   "cell_type": "code",
   "execution_count": 5,
   "id": "ed8bf553-d47e-4eed-8842-bb9c8502418a",
   "metadata": {},
   "outputs": [],
   "source": [
    "int_list = [random.randit(0,15) for _ in range(50)] = [random.randint(0,15) for _ in range(50)]"
   ]
  },
  {
   "cell_type": "markdown",
   "id": "329cdcf4-a074-45ad-98b3-94dbad813c72",
   "metadata": {},
   "source": [
    "4) Print the 10th and 30th elements of the list. "
   ]
  },
  {
   "cell_type": "code",
   "execution_count": 11,
   "id": "9d2cfeef-11be-4b4a-9bb3-845ba8b24dd5",
   "metadata": {},
   "outputs": [
    {
     "name": "stdout",
     "output_type": "stream",
     "text": [
      "1\n",
      "7\n"
     ]
    }
   ],
   "source": [
    "print(int_list[9])\n",
    "print(int_list[29])"
   ]
  },
  {
   "cell_type": "markdown",
   "id": "48d4d289",
   "metadata": {},
   "source": [
    "## Question 2\n",
    "1) import the string library."
   ]
  },
  {
   "cell_type": "code",
   "execution_count": 12,
   "id": "e259b56f",
   "metadata": {},
   "outputs": [],
   "source": [
    "import string"
   ]
  },
  {
   "cell_type": "markdown",
   "id": "3c1be191-fa9f-405f-9b4c-05653144381f",
   "metadata": {},
   "source": [
    "2) Create the string `az_upper` using `string.ascii_uppercase`. This is a single string of uppercase letters"
   ]
  },
  {
   "cell_type": "code",
   "execution_count": 14,
   "id": "c9c43f11-dc2e-4d36-b477-123076ac5fcd",
   "metadata": {},
   "outputs": [
    {
     "name": "stdout",
     "output_type": "stream",
     "text": [
      "ABCDEFGHIJKLMNOPQRSTUVWXYZ\n"
     ]
    }
   ],
   "source": [
    "az_upper = string.ascii_uppercase\n",
    "\n",
    "print(az_upper)"
   ]
  },
  {
   "cell_type": "code",
   "execution_count": null,
   "id": "482b931e-b21e-4aa9-b360-6a929eade798",
   "metadata": {},
   "outputs": [],
   "source": [
    "3) Create a list of each individual letter from the string. \n",
    "To do this you will need to iterate over the string and append each letter to the an empty list. Call this list `az_list` `for i in string>:\n",
    "   <list operation>. "
   ]
  },
  {
   "cell_type": "code",
   "execution_count": 20,
   "id": "bbda8da4-15e0-4fb1-9e13-8b93caa5751e",
   "metadata": {},
   "outputs": [],
   "source": [
    "az_list = []\n",
    "for i in az_upper:\n",
    "    az_list.append(i)"
   ]
  },
  {
   "cell_type": "code",
   "execution_count": null,
   "id": "59becfe7-2dc0-4ea6-87b3-8cc4399a7503",
   "metadata": {},
   "outputs": [],
   "source": [
    "4) Print the list."
   ]
  },
  {
   "cell_type": "code",
   "execution_count": 19,
   "id": "d51c5945-9937-4e23-b92b-b3e6f482d91f",
   "metadata": {},
   "outputs": [
    {
     "name": "stdout",
     "output_type": "stream",
     "text": [
      "['A', 'B', 'C', 'D', 'E', 'F', 'G', 'H', 'I', 'J', 'K', 'L', 'M', 'N', 'O', 'P', 'Q', 'R', 'S', 'T', 'U', 'V', 'W', 'X', 'Y', 'Z']\n"
     ]
    }
   ],
   "source": [
    "print(az_list)"
   ]
  },
  {
   "cell_type": "markdown",
   "id": "5b775542",
   "metadata": {},
   "source": [
    "## Question 3\n",
    "1) Create a set from 1 to 5. Call this `set_1`."
   ]
  },
  {
   "cell_type": "code",
   "execution_count": 22,
   "id": "806c801e-10f3-4ee9-a2cd-3b6959acafed",
   "metadata": {},
   "outputs": [
    {
     "name": "stdout",
     "output_type": "stream",
     "text": [
      "{1, 2, 3, 4, 5}\n"
     ]
    }
   ],
   "source": [
    "set_1 = {1,2,3,4,5}\n",
    "\n",
    "print(set_1)"
   ]
  },
  {
   "cell_type": "markdown",
   "id": "c0429533-3ffd-4c95-95f9-9b6a2606327b",
   "metadata": {},
   "source": [
    "2) Create a set from int_list. Call this `set_2`."
   ]
  },
  {
   "cell_type": "code",
   "execution_count": 23,
   "id": "7eef9099-7616-413d-a2c4-b1a302a2588e",
   "metadata": {},
   "outputs": [
    {
     "name": "stdout",
     "output_type": "stream",
     "text": [
      "{0, 1, 2, 4, 5, 6, 7, 8, 9, 10, 11, 12, 13, 14, 15}\n"
     ]
    }
   ],
   "source": [
    "set_2 = set(int_list)\n",
    "print(set_2)"
   ]
  },
  {
   "cell_type": "markdown",
   "id": "470d5938-b72f-416c-9f4e-a000753c38be",
   "metadata": {},
   "source": [
    "3) Create a set by finding the `symmetric_difference()` of `set_1` and `set_2`. Call this `set_3`."
   ]
  },
  {
   "cell_type": "code",
   "execution_count": 26,
   "id": "36b917b1-e892-4d07-80d0-e5c20841ea34",
   "metadata": {},
   "outputs": [
    {
     "name": "stdout",
     "output_type": "stream",
     "text": [
      "{0, 3, 6, 7, 8, 9, 10, 11, 12, 13, 14, 15}\n"
     ]
    }
   ],
   "source": [
    "set_3 = set_1.symmetric_difference(set_2)\n",
    "\n",
    "print(set_3)"
   ]
  },
  {
   "cell_type": "markdown",
   "id": "624f5bcb-67fb-4771-86b2-56824b8deb76",
   "metadata": {},
   "source": [
    "4) What is the length of all three sets?"
   ]
  },
  {
   "cell_type": "code",
   "execution_count": 29,
   "id": "4300df51",
   "metadata": {},
   "outputs": [
    {
     "name": "stdout",
     "output_type": "stream",
     "text": [
      "5\n",
      "15\n",
      "12\n"
     ]
    }
   ],
   "source": [
    "print(len(set_1))\n",
    "print(len(set_2))\n",
    "print(len(set_3))"
   ]
  },
  {
   "cell_type": "markdown",
   "id": "7cd5e698",
   "metadata": {},
   "source": [
    "## Question 4\n",
    "1) Import default dict and set the default value to 'Not Present'. Call this dict_1."
   ]
  },
  {
   "cell_type": "code",
   "execution_count": 34,
   "id": "7c7f5ecc-8769-41df-ae3e-168dec2f331f",
   "metadata": {},
   "outputs": [
    {
     "name": "stdout",
     "output_type": "stream",
     "text": [
      "Not present\n"
     ]
    }
   ],
   "source": [
    "from collections import defaultdict\n",
    "\n",
    "def def_value():\n",
    "    return \"Not present\"\n",
    "\n",
    "dict_1 = defaultdict(def_value)\n",
    "\n",
    "print(dict_1[\"\"])"
   ]
  },
  {
   "cell_type": "markdown",
   "id": "cd55db1f-5e4b-4ac0-a155-acd12c98b909",
   "metadata": {},
   "source": [
    "2) Add `int_list`, `set_2`, and `set_3` to `dict_1` using the object names as the key names. \n"
   ]
  },
  {
   "cell_type": "code",
   "execution_count": 38,
   "id": "fd6c5fd7-7ce7-423c-bebd-5ab9fc09da7c",
   "metadata": {},
   "outputs": [
    {
     "name": "stdout",
     "output_type": "stream",
     "text": [
      "defaultdict(<function def_value at 0x00000210EC72FA60>, {'': 'Not present', 'int_list': [1, 13, 15, 0, 6, 14, 15, 8, 5, 1, 15, 10, 2, 7, 11, 1, 13, 4, 11, 12, 13, 9, 8, 14, 5, 9, 11, 4, 14, 7, 14, 12, 1, 0, 7, 4, 6, 9, 11, 7, 10, 14, 13, 15, 2, 10, 5, 7, 13, 7], 'set_2': {0, 1, 2, 4, 5, 6, 7, 8, 9, 10, 11, 12, 13, 14, 15}, 'set_3': {0, 3, 6, 7, 8, 9, 10, 11, 12, 13, 14, 15}})\n"
     ]
    }
   ],
   "source": [
    "dict_1['int_list'] = int_list\n",
    "dict_1['set_2'] = set_2\n",
    "dict_1['set_3'] = set_3\n",
    "\n",
    "print(dict_1)"
   ]
  },
  {
   "cell_type": "markdown",
   "id": "9837bf5b-0e19-4df9-814e-a6484c2162a8",
   "metadata": {},
   "source": [
    "3) Create a new dictionary, `dict_2`, using curly bracket notation with `set_1` and `az_list` as the keys and values. "
   ]
  },
  {
   "cell_type": "code",
   "execution_count": 42,
   "id": "3bbd95c7-6291-43a5-b47e-c0cf25122730",
   "metadata": {},
   "outputs": [
    {
     "name": "stdout",
     "output_type": "stream",
     "text": [
      "{'set_1': {1, 2, 3, 4, 5}, 'az_list': ['A', 'B', 'C', 'D', 'E', 'F', 'G', 'H', 'I', 'J', 'K', 'L', 'M', 'N', 'O', 'P', 'Q', 'R', 'S', 'T', 'U', 'V', 'W', 'X', 'Y', 'Z']}\n"
     ]
    }
   ],
   "source": [
    "dict_2 = {'set_1':set_1, 'az_list':az_list}\n",
    "\n",
    "print(dict_2)"
   ]
  },
  {
   "cell_type": "markdown",
   "id": "4c59b27d-56b3-4f0b-b233-555801a16999",
   "metadata": {},
   "source": [
    "4) Invoke the default value of `dict_1` by trying to access the key `az_list`. Create a new set named `set_4` from the value of `dict_1['az_list']`. What is the lenght of the difference between `dict_2['az_list']` and `set_4'?"
   ]
  },
  {
   "cell_type": "code",
   "execution_count": 53,
   "id": "62bdbe7a-1b5f-4f74-8c00-f9bac432aedd",
   "metadata": {},
   "outputs": [
    {
     "name": "stdout",
     "output_type": "stream",
     "text": [
      "Not present\n",
      "25\n"
     ]
    }
   ],
   "source": [
    "print(dict_1['az_list'])\n",
    "\n",
    "set_4 = set(dict_1['az_list'])\n",
    "\n",
    "az_set = set(dict_2['az_list'])\n",
    "\n",
    "difference_sets = az_set - set_4\n",
    "\n",
    "print(len(difference_sets))"
   ]
  },
  {
   "cell_type": "markdown",
   "id": "8d347d3b-9ed4-4d0c-a5d3-fd2ed63a959e",
   "metadata": {},
   "source": [
    "5) Update `dict_2` with `dict_1`. Print the value of the key `az_list` from `dict_2`. What happened?"
   ]
  },
  {
   "cell_type": "code",
   "execution_count": 55,
   "id": "a60680e3-b629-4113-8a13-ad676bc82882",
   "metadata": {},
   "outputs": [
    {
     "name": "stdout",
     "output_type": "stream",
     "text": [
      "Not present\n"
     ]
    }
   ],
   "source": [
    "dict_2.update(dict_1)\n",
    "\n",
    "print(dict_2['az_list'])"
   ]
  },
  {
   "cell_type": "markdown",
   "id": "f62af63d-b3ad-439c-8f83-db80df711243",
   "metadata": {},
   "source": [
    "The original values of az_list was overwriiten to \"Not present\""
   ]
  }
 ],
 "metadata": {
  "kernelspec": {
   "display_name": "Python 3 (ipykernel)",
   "language": "python",
   "name": "python3"
  },
  "language_info": {
   "codemirror_mode": {
    "name": "ipython",
    "version": 3
   },
   "file_extension": ".py",
   "mimetype": "text/x-python",
   "name": "python",
   "nbconvert_exporter": "python",
   "pygments_lexer": "ipython3",
   "version": "3.12.7"
  }
 },
 "nbformat": 4,
 "nbformat_minor": 5
}
