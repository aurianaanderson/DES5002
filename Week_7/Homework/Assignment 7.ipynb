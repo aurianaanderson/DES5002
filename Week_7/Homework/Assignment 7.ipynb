{
 "cells": [
  {
   "cell_type": "markdown",
   "id": "5b5258fe",
   "metadata": {},
   "source": [
    "# Assignment 7\n",
    "### Auriana Anderson\n",
    "### December 3, 2024"
   ]
  },
  {
   "cell_type": "markdown",
   "id": "c0ebfbde",
   "metadata": {},
   "source": [
    "## Question 1\n",
    "A palindrome is a word, phrase, or sequence that is the same spelled forward as it is backwards.\n",
    "Write a function using a for-loop to determine if a string is a palindrome. Your function should only have one argument. "
   ]
  },
  {
   "cell_type": "code",
   "execution_count": 55,
   "id": "75b35247",
   "metadata": {},
   "outputs": [
    {
     "name": "stdout",
     "output_type": "stream",
     "text": [
      "True\n",
      "False\n"
     ]
    }
   ],
   "source": [
    "def is_palindrome(string):\n",
    "    for i in range(len(string)//2):\n",
    "        if string[i] != string[-(i + 1)]:\n",
    "            return False\n",
    "        return True\n",
    "        \n",
    "print(is_palindrome(\"radar\"))\n",
    "\n",
    "print(is_palindrome(\"rabbit\"))\n",
    "\n"
   ]
  },
  {
   "cell_type": "markdown",
   "id": "c6916bad",
   "metadata": {},
   "source": [
    "## Question 2\n",
    "Write a function using a while-loop to determine if a string is a palindrome. Your function should only have one argument. "
   ]
  },
  {
   "cell_type": "code",
   "execution_count": 56,
   "id": "c0f1525d",
   "metadata": {},
   "outputs": [
    {
     "name": "stdout",
     "output_type": "stream",
     "text": [
      "True\n",
      "False\n"
     ]
    }
   ],
   "source": [
    "def is_palindrome(string):\n",
    "    left = 0\n",
    "    right = len(string) - 1 \n",
    "\n",
    "    while left < right:\n",
    "        if string[left] != string[right]:\n",
    "            return False\n",
    "        left += 1\n",
    "        right -= 1\n",
    "    return True\n",
    "\n",
    "print(is_palindrome(\"radar\"))\n",
    "\n",
    "print(is_palindrome(\"rabbit\"))\n"
   ]
  },
  {
   "cell_type": "markdown",
   "id": "d85c8321",
   "metadata": {},
   "source": [
    "## Question 3\n",
    "Two Sum - Write a function named two_sum()\n",
    "Given a vector of integers nums and an integer target, return indices of the two numbers such that they add\n",
    "up to target. You may assume that each input would have exactly one solution, and you may not use the same element\n",
    "twice. You can return the answer in any order.Use defaultdict and hash maps/tables to complete this problem. \n",
    "\n",
    "Example 1:\n",
    "Input: `nums = [2,7,11,15]`, target = 9 Output: `[0,1]` Explanation: Because `nums[0] + nums[1] == 9`, we\n",
    "return `[0, 1]`. \n",
    "\n",
    "Example 2:\n",
    "Input: `nums = [3,2,4]`, `target = 6 Output: [1,2]` \n",
    "\n",
    "Example 3:\n",
    "Input: `nums = [3,3]`, `target = 6 Output: [0,1]`\n",
    "\n",
    "Constraints:\n",
    "`2 <= nums.length <= 104 –109 <= nums[i] <= 109 –109 <= target <= 109` Only one valid answer exists."
   ]
  },
  {
   "cell_type": "code",
   "execution_count": 57,
   "id": "46a63aa3",
   "metadata": {},
   "outputs": [
    {
     "name": "stdout",
     "output_type": "stream",
     "text": [
      "[0, 1]\n",
      "[1, 2]\n",
      "[0, 1]\n"
     ]
    }
   ],
   "source": [
    "from collections import defaultdict\n",
    "\n",
    "def two_sums(nums, target):\n",
    "    number_map = defaultdict(int)\n",
    "    for i in range(len(nums)):\n",
    "        num = nums[i]\n",
    "        complement = target - num\n",
    "        if complement in number_map:\n",
    "            return [number_map[complement], i]\n",
    "        number_map[num] = i\n",
    "\n",
    "nums1 = [2,7,11,15]\n",
    "target1 = 9\n",
    "print(two_sums(nums1, target1))\n",
    "\n",
    "nums2 = [3,2,4]\n",
    "target2 = 6\n",
    "print(two_sums(nums2, target2))\n",
    "\n",
    "nums3 = [3,3]\n",
    "target3 = 6\n",
    "print(two_sums(nums3, target3))"
   ]
  },
  {
   "cell_type": "markdown",
   "id": "9ec37669",
   "metadata": {},
   "source": [
    "## Question 4\n",
    "How is a negative index used in Python? Show an example"
   ]
  },
  {
   "cell_type": "markdown",
   "id": "5f4969d9-de22-4455-ada0-37f0d855ae6f",
   "metadata": {},
   "source": [
    "A negative index in python is used to access the end of a string or list"
   ]
  },
  {
   "cell_type": "code",
   "execution_count": 58,
   "id": "34dcc329-2ef7-46a3-a543-534bac7f8bd6",
   "metadata": {},
   "outputs": [
    {
     "name": "stdout",
     "output_type": "stream",
     "text": [
      "62\n",
      "78\n"
     ]
    }
   ],
   "source": [
    "nums =  30, 7, 3000000, 78, 62, 34567890\n",
    "\n",
    "print(nums[-2])\n",
    "\n",
    "print(nums[-3])"
   ]
  },
  {
   "cell_type": "markdown",
   "id": "3128782b",
   "metadata": {},
   "source": [
    "## Question 5\n",
    "Check if two given strings are isomorphic to each other. Two strings str1 and str2 are called isomorphic if there is a one-to-one mapping possible for every character of str1 to every character of str2. And all occurrences of every character in ‘str1’ map to the same character in ‘str2’.\n",
    "\n",
    "`Input:  str1 = \"aab\", str2 = \"xxy\"`\n",
    "\n",
    "`Output: True`\n",
    "\n",
    "`'a' is mapped to 'x' and 'b' is mapped to 'y'.`\n",
    "\n",
    "`Input:  str1 = \"aab\", str2 = \"xyz\"`\n",
    "\n",
    "`Output: False`\n",
    "\n",
    "`One occurrence of 'a' in str1 has 'x' in str2 and other occurrence of 'a' has 'y'.`\n",
    "\n",
    "A Simple Solution is to consider every character of ‘str1’ and check if all occurrences of it map to the same character in ‘str2’. The time complexity of this solution is O(n*n).\n",
    "\n",
    "An Efficient Solution can solve this problem in O(n) time. The idea is to create an array to store mappings of processed characters. \n"
   ]
  },
  {
   "cell_type": "code",
   "execution_count": 54,
   "id": "53f3a149",
   "metadata": {},
   "outputs": [
    {
     "name": "stdout",
     "output_type": "stream",
     "text": [
      "True\n",
      "False\n"
     ]
    }
   ],
   "source": [
    "def is_isomorphic(str1,str2):\n",
    "    if len(str1) != len(str2):\n",
    "            return False\n",
    "    map1 = {}\n",
    "    map2 = {}\n",
    "\n",
    "    for i in range(len(str1)):\n",
    "        char1 = str1[i]\n",
    "        char2 = str2[i]\n",
    "            \n",
    "        if char1 in map1:\n",
    "            if map1[char1] != char2:\n",
    "                 return False\n",
    "\n",
    "        else: \n",
    "            map1[char1] = char2\n",
    "\n",
    "        if char2 in map2:\n",
    "            if map2[char2] != char1:\n",
    "                return False\n",
    "\n",
    "        else:\n",
    "            map2[char2] = char1\n",
    "            \n",
    "    return True\n",
    "                \n",
    "print(is_isomorphic(\"aab\", \"xxy\"))\n",
    "print(is_isomorphic(\"aab\", \"xyz\"))"
   ]
  }
 ],
 "metadata": {
  "kernelspec": {
   "display_name": "Python 3 (ipykernel)",
   "language": "python",
   "name": "python3"
  },
  "language_info": {
   "codemirror_mode": {
    "name": "ipython",
    "version": 3
   },
   "file_extension": ".py",
   "mimetype": "text/x-python",
   "name": "python",
   "nbconvert_exporter": "python",
   "pygments_lexer": "ipython3",
   "version": "3.12.3"
  }
 },
 "nbformat": 4,
 "nbformat_minor": 5
}
